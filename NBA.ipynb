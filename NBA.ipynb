{
 "cells": [
  {
   "cell_type": "code",
   "execution_count": 3,
   "metadata": {},
   "outputs": [
    {
     "name": "stdout",
     "output_type": "stream",
     "text": [
      "Requirement already satisfied: nba_api in /usr/local/python/3.12.1/lib/python3.12/site-packages (1.6.0)\n",
      "Requirement already satisfied: certifi<2024.0.0,>=2023.7.22 in /usr/local/python/3.12.1/lib/python3.12/site-packages (from nba_api) (2023.11.17)\n",
      "Requirement already satisfied: idna<4.0.0,>=3.7.0 in /home/codespace/.local/lib/python3.12/site-packages (from nba_api) (3.10)\n",
      "Requirement already satisfied: numpy<2.0.0,>=1.22.2 in /usr/local/python/3.12.1/lib/python3.12/site-packages (from nba_api) (1.26.4)\n",
      "Requirement already satisfied: requests<3.0.0,>=2.32.3 in /home/codespace/.local/lib/python3.12/site-packages (from nba_api) (2.32.3)\n",
      "Requirement already satisfied: urllib3<3.0.0,>=2.2.2 in /home/codespace/.local/lib/python3.12/site-packages (from nba_api) (2.2.3)\n",
      "Requirement already satisfied: charset-normalizer<4,>=2 in /home/codespace/.local/lib/python3.12/site-packages (from requests<3.0.0,>=2.32.3->nba_api) (3.3.2)\n"
     ]
    }
   ],
   "source": [
    "!pip install nba_api"
   ]
  },
  {
   "cell_type": "code",
   "execution_count": 4,
   "metadata": {},
   "outputs": [],
   "source": [
    "import pandas as pd\n",
    "import numpy as np"
   ]
  }
 ],
 "metadata": {
  "kernelspec": {
   "display_name": "Python 3",
   "language": "python",
   "name": "python3"
  },
  "language_info": {
   "codemirror_mode": {
    "name": "ipython",
    "version": 3
   },
   "file_extension": ".py",
   "mimetype": "text/x-python",
   "name": "python",
   "nbconvert_exporter": "python",
   "pygments_lexer": "ipython3",
   "version": "3.12.1"
  }
 },
 "nbformat": 4,
 "nbformat_minor": 2
}
